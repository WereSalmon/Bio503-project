{
 "cells": [
  {
   "cell_type": "code",
   "execution_count": 1,
   "id": "56b08006",
   "metadata": {},
   "outputs": [],
   "source": [
    "import pandas as pd\n",
    "import biom"
   ]
  },
  {
   "cell_type": "code",
   "execution_count": 3,
   "id": "bf540190",
   "metadata": {},
   "outputs": [],
   "source": [
    "def process_tax_table(filepath, tax_system=\"SILVA\"):\n",
    "    '''overwrite a phyloseq taxonomy table so that it is in green_genes format''''\n",
    "    \n",
    "    ## import the taxonomy table from phyloseq\n",
    "    tax_table = pd.read_csv(filepath, sep = \"\\t\")\n",
    "        \n",
    "    ## initialize list of correct taxonomic classifications\n",
    "    tax_list = []\n",
    "    \n",
    "    if tax_system ==\"SILVA\":\n",
    "        for row in tax_table.iterrows():\n",
    "            d = \"D_0__\" + row[1][\"domain\"]\n",
    "            p = \"D_1__\" + row[1][\"phylum\"]\n",
    "            o = \"D_2__\" + row[1][\"order\"]\n",
    "            c = \"D_3__\" + row[1][\"class\"]\n",
    "            f = \"D_4__\" + row[1][\"family\"]\n",
    "            g = \"D_5__\" + row[1][\"genus\"]\n",
    "            s = \"D_6__\" + row[1][\"species\"]\n",
    "            tax = [d,p,o,c,f,g,s]\n",
    "            tax_list.append((row[1][\"OTUID\"], tax))\n",
    "    \n",
    "    elif tax_system ==\"Greengenes\":\n",
    "        ## create the list of correctly formatted taxonomic classifications\n",
    "        for row in tax_table.iterrows():\n",
    "            d = \"k__\" + row[1][\"domain\"]\n",
    "            p = \"p__\" + row[1][\"phylum\"]\n",
    "            o = \"o__\" + row[1][\"order\"]\n",
    "            c = \"c__\" + row[1][\"class\"]\n",
    "            f = \"f__\" + row[1][\"family\"]\n",
    "            g = \"g__\" + row[1][\"genus\"]\n",
    "            s = \"s__\" + row[1][\"species\"]\n",
    "            tax = [d,p,o,c,f,g,s]\n",
    "            tax_list.append((row[1][\"OTUID\"], tax))\n",
    "    else:\n",
    "        raise ValueError('Unknown taxonomy system used. Use either SILVA or Greengenes taxonomy system.')\n",
    "        \n",
    "    ## save green_tax as a dataframe\n",
    "    new_tax_table = pd.DataFrame(tax_list)\n",
    "    \n",
    "    ## rename columsn of the otu table\n",
    "    new_tax_table = new_tax_table.rename(columns={0:\"# OTUID\", 1:\"taxonomy\"})\n",
    "    \n",
    "    ## save the green_genes taxonomy table as TSV\n",
    "    new_tax_table.to_csv(filepath, index = None, sep = \"\\t\")"
   ]
  },
  {
   "cell_type": "code",
   "execution_count": 5,
   "id": "ec782f9f",
   "metadata": {},
   "outputs": [
    {
     "ename": "ValueError",
     "evalue": "Unknown taxonomy system used. Use either SILVA or Greengenes taxonomy system.",
     "output_type": "error",
     "traceback": [
      "\u001b[1;31m---------------------------------------------------------------------------\u001b[0m",
      "\u001b[1;31mValueError\u001b[0m                                Traceback (most recent call last)",
      "Input \u001b[1;32mIn [5]\u001b[0m, in \u001b[0;36m<cell line: 1>\u001b[1;34m()\u001b[0m\n\u001b[1;32m----> 1\u001b[0m \u001b[43mprocess_tax_table\u001b[49m\u001b[43m(\u001b[49m\u001b[38;5;124;43m\"\u001b[39;49m\u001b[38;5;124;43mlemay_otu_metadata.txt\u001b[39;49m\u001b[38;5;124;43m\"\u001b[39;49m\u001b[43m,\u001b[49m\u001b[43m \u001b[49m\u001b[38;5;124;43m\"\u001b[39;49m\u001b[38;5;124;43mSam\u001b[39;49m\u001b[38;5;124;43m\"\u001b[39;49m\u001b[43m)\u001b[49m\n",
      "Input \u001b[1;32mIn [3]\u001b[0m, in \u001b[0;36mprocess_tax_table\u001b[1;34m(filepath, tax_system)\u001b[0m\n\u001b[0;32m     33\u001b[0m         tax_list\u001b[38;5;241m.\u001b[39mappend((row[\u001b[38;5;241m1\u001b[39m][\u001b[38;5;124m\"\u001b[39m\u001b[38;5;124mOTUID\u001b[39m\u001b[38;5;124m\"\u001b[39m], tax))\n\u001b[0;32m     34\u001b[0m \u001b[38;5;28;01melse\u001b[39;00m:\n\u001b[1;32m---> 35\u001b[0m     \u001b[38;5;28;01mraise\u001b[39;00m \u001b[38;5;167;01mValueError\u001b[39;00m(\u001b[38;5;124m'\u001b[39m\u001b[38;5;124mUnknown taxonomy system used. Use either SILVA or Greengenes taxonomy system.\u001b[39m\u001b[38;5;124m'\u001b[39m)\n\u001b[0;32m     37\u001b[0m \u001b[38;5;66;03m## save green_tax as a dataframe\u001b[39;00m\n\u001b[0;32m     38\u001b[0m new_tax_table \u001b[38;5;241m=\u001b[39m pd\u001b[38;5;241m.\u001b[39mDataFrame(tax_list)\n",
      "\u001b[1;31mValueError\u001b[0m: Unknown taxonomy system used. Use either SILVA or Greengenes taxonomy system."
     ]
    }
   ],
   "source": [
    "process_tax_table(\"lemay_otu_metadata.txt\", \"Sam\")"
   ]
  },
  {
   "cell_type": "code",
   "execution_count": 2,
   "id": "ec9aa6bb",
   "metadata": {},
   "outputs": [],
   "source": [
    "## import the taxonomy table from phyloseq\n",
    "tax_table = pd.read_csv(\"lemay_otu_metadata.txt\", sep = \"\\t\")"
   ]
  },
  {
   "cell_type": "code",
   "execution_count": 4,
   "id": "02711fa4",
   "metadata": {},
   "outputs": [],
   "source": [
    "## initialize the correctly formatted taxonomy\n",
    "green_tax = []"
   ]
  },
  {
   "cell_type": "code",
   "execution_count": 5,
   "id": "094b5e2c",
   "metadata": {},
   "outputs": [],
   "source": [
    "## create the list of correctly formatted taxonomic classifications\n",
    "for row in tax_table.iterrows():\n",
    "    d = \"k__\" + row[1][\"domain\"]\n",
    "    p = \"p__\" + row[1][\"phylum\"]\n",
    "    o = \"o__\" + row[1][\"order\"]\n",
    "    c = \"c__\" + row[1][\"class\"]\n",
    "    f = \"f__\" + row[1][\"family\"]\n",
    "    g = \"g__\" + row[1][\"genus\"]\n",
    "    s = \"s__\" + row[1][\"species\"]\n",
    "    tax = [d,p,o,c,f,g,s]\n",
    "    green_tax.append((row[1][\"OTUID\"], tax))"
   ]
  },
  {
   "cell_type": "code",
   "execution_count": 6,
   "id": "6480c84b",
   "metadata": {},
   "outputs": [],
   "source": [
    "green_tax = pd.DataFrame(green_tax)"
   ]
  },
  {
   "cell_type": "code",
   "execution_count": 7,
   "id": "8d17ea3c",
   "metadata": {},
   "outputs": [],
   "source": [
    "green_tax = green_tax.rename(columns={0:\"OTUID\", 1:\"taxonomy\"})"
   ]
  },
  {
   "cell_type": "code",
   "execution_count": 8,
   "id": "373d8bc2",
   "metadata": {},
   "outputs": [],
   "source": [
    "green_tax.to_csv(\"lemay_otu_metadata.txt\", index = None, sep = \"\\t\")"
   ]
  },
  {
   "cell_type": "code",
   "execution_count": 4,
   "id": "fc140f14",
   "metadata": {},
   "outputs": [],
   "source": [
    "func_table = biom.load_table(\"lemay_func.biom\")"
   ]
  },
  {
   "cell_type": "code",
   "execution_count": null,
   "id": "299bed5e",
   "metadata": {},
   "outputs": [],
   "source": []
  }
 ],
 "metadata": {
  "kernelspec": {
   "display_name": "Python 3 (ipykernel)",
   "language": "python",
   "name": "python3"
  },
  "language_info": {
   "codemirror_mode": {
    "name": "ipython",
    "version": 3
   },
   "file_extension": ".py",
   "mimetype": "text/x-python",
   "name": "python",
   "nbconvert_exporter": "python",
   "pygments_lexer": "ipython3",
   "version": "3.9.6"
  }
 },
 "nbformat": 4,
 "nbformat_minor": 5
}
